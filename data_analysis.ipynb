{
 "cells": [
  {
   "cell_type": "code",
   "execution_count": 1,
   "metadata": {},
   "outputs": [],
   "source": [
    "import pandas as pd\n",
    "import requests\n",
    "import os, json\n",
    "from json import JSONDecodeError"
   ]
  },
  {
   "cell_type": "code",
   "execution_count": 2,
   "metadata": {},
   "outputs": [],
   "source": [
    "def get_json(from_year, to_year):\n",
    "    if not 2000 < int(from_year) < 2050 or not 2000 < int(from_year) < 2050:\n",
    "        return []\n",
    "    all_holidays = []\n",
    "    for i in range(from_year, to_year+1):\n",
    "        r = requests.get(f'https://date.nager.at/api/v2/publicholidays/{i}/CH')\n",
    "        all_holidays.extend(r.json())\n",
    "    return all_holidays\n",
    "\n",
    "def set_date_index(df, col='date'):\n",
    "    return df.set_index(pd.to_datetime(df[col])).drop(col, axis=1)\n",
    "\n",
    "def filter_canton(df, can='BS'):\n",
    "    return df[[(str('CH-' + can) in row) if row is not None else True for row in df.counties]]\n",
    "\n",
    "def get_holiday_data(canton='BS', from_year=2018, to_year=2018):\n",
    "    holiday_data = get_json(from_year, to_year)\n",
    "    holiday_df = (pd.DataFrame.from_records(holiday_data)\n",
    "                  .pipe(set_date_index)\n",
    "                  .pipe(filter_canton, can=holiday_canton))\n",
    "    return holiday_df"
   ]
  },
  {
   "cell_type": "code",
   "execution_count": 22,
   "metadata": {},
   "outputs": [],
   "source": [
    "# 105: Basel\n",
    "def import_weather_data(station_index=105):    \n",
    "    stationdata = []\n",
    "    station_error = 0\n",
    "\n",
    "    for root, dirs, files in os.walk(\"weather_data/2018\"):\n",
    "        for file in files: \n",
    "            if not file.endswith(\".json\"): continue\n",
    "            filename = os.path.join(root, file)\n",
    "            try:\n",
    "                with open(filename) as json_file:\n",
    "                    data = json.load(json_file)\n",
    "                    stationdata.append(data[station_index])\n",
    "            except UnicodeDecodeError:\n",
    "                station_error = station_error + 1\n",
    "            except JSONDecodeError:\n",
    "                station_error = station_error + 1\n",
    "    print (\"Loaded: %d - errors: %d\" % (len(stationdata), station_error))\n",
    "    pandata = pd.DataFrame(stationdata)\n",
    "    pandata = pandata.drop(columns=['code','station'])\n",
    "    return pandata\n",
    "\n",
    "def clean_weather_data(weather_df):\n",
    "    weather_df['sunshine'] = pd.to_numeric(weather_df['sunshine'])\n",
    "    weather_data['precipitation'] = pd.to_numeric(weather_data['precipitation'])\n",
    "    return weather_df.set_index(pd.to_datetime(weather_df['dateTime'])).drop('dateTime', axis=1).sort_index()\n",
    "\n",
    "def get_weather_score():\n",
    "    weather_data = (import_weather_data()\n",
    "                    .pipe(clean_weather_data))\n",
    "    # first version, just take sunshine value\n",
    "    return weather_data[['sunshine']]\n",
    "    "
   ]
  },
  {
   "cell_type": "code",
   "execution_count": null,
   "metadata": {},
   "outputs": [],
   "source": []
  }
 ],
 "metadata": {
  "kernelspec": {
   "display_name": "Python 3",
   "language": "python",
   "name": "python3"
  },
  "language_info": {
   "codemirror_mode": {
    "name": "ipython",
    "version": 3
   },
   "file_extension": ".py",
   "mimetype": "text/x-python",
   "name": "python",
   "nbconvert_exporter": "python",
   "pygments_lexer": "ipython3",
   "version": "3.7.5"
  }
 },
 "nbformat": 4,
 "nbformat_minor": 4
}
